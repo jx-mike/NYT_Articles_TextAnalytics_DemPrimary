{
 "cells": [
  {
   "cell_type": "code",
   "execution_count": 19,
   "metadata": {},
   "outputs": [],
   "source": [
    "import json\n",
    "import numpy as np\n",
    "import pandas as pd\n",
    "import requests\n",
    "from bs4 import BeautifulSoup\n",
    "import time\n",
    "import re\n",
    "from pymongo import MongoClient"
   ]
  },
  {
   "cell_type": "markdown",
   "metadata": {},
   "source": [
    "## Dumping NYT's articles with main context and their metadata"
   ]
  },
  {
   "cell_type": "code",
   "execution_count": 2,
   "metadata": {},
   "outputs": [],
   "source": [
    "def removekey(article_metadata):\n",
    "    keys_to_remove = [\"multimedia\", \"lead_paragraph\",\"_id\"]\n",
    "    for key in keys_to_remove:\n",
    "        del article_metadata[key]"
   ]
  },
  {
   "cell_type": "code",
   "execution_count": 3,
   "metadata": {},
   "outputs": [],
   "source": [
    "# get id and text for filtered articles \n",
    "with open('feb_dict.json','r') as json_file:\n",
    "    feb_text_filtered = json.load(json_file)"
   ]
  },
  {
   "cell_type": "code",
   "execution_count": 4,
   "metadata": {},
   "outputs": [],
   "source": [
    "# get ids and make it into int for indexing\n",
    "feb_id_keys = list(feb_text_filtered.keys())\n",
    "feb_article_ids = list(map(int, feb_id_keys)) "
   ]
  },
  {
   "cell_type": "code",
   "execution_count": 5,
   "metadata": {},
   "outputs": [],
   "source": [
    "# get metadata for articles\n",
    "with open('NYT_feb_data.txt','r') as json_file:\n",
    "    feb_medadata = json.load(json_file)"
   ]
  },
  {
   "cell_type": "code",
   "execution_count": 6,
   "metadata": {},
   "outputs": [],
   "source": [
    "# filter metadata using filtered text's keys\n",
    "feb_metadata_filtered = [feb_medadata[i] for i in feb_article_ids]"
   ]
  },
  {
   "cell_type": "code",
   "execution_count": 7,
   "metadata": {},
   "outputs": [],
   "source": [
    "# adding article_indexing to each metadata dict\n",
    "for article_meta in list(enumerate(feb_metadata_filtered)): \n",
    "    removekey(article_meta[1])\n",
    "    pos = article_meta[0]\n",
    "    article_meta[1].update({\"article_index\": feb_article_ids[pos]})"
   ]
  },
  {
   "cell_type": "code",
   "execution_count": 8,
   "metadata": {},
   "outputs": [],
   "source": [
    "# fixing article's text dict, which will have article_index and main_content as keys\n",
    "feb_text_list = []\n",
    "for key, values in feb_text_filtered.items():\n",
    "    raw_keys = ['article_index', 'main_content']\n",
    "    raw_vals = [key, values]\n",
    "    item_dict = {raw_keys[i]: raw_vals[i] for i in range(len(raw_keys))}\n",
    "    feb_text_list.append(item_dict)"
   ]
  },
  {
   "cell_type": "code",
   "execution_count": null,
   "metadata": {},
   "outputs": [],
   "source": []
  },
  {
   "cell_type": "code",
   "execution_count": 9,
   "metadata": {},
   "outputs": [],
   "source": [
    "# get id and text for filtered articles \n",
    "with open('march_dict.json','r') as json_file:\n",
    "    march_text_filtered = json.load(json_file)"
   ]
  },
  {
   "cell_type": "code",
   "execution_count": 10,
   "metadata": {},
   "outputs": [],
   "source": [
    "# get ids and make it into int for indexing\n",
    "march_id_keys = list(march_text_filtered.keys())\n",
    "march_article_ids = list(map(int, march_id_keys)) "
   ]
  },
  {
   "cell_type": "code",
   "execution_count": 11,
   "metadata": {},
   "outputs": [],
   "source": [
    "# get metadata for articles\n",
    "with open('NYT_march_data_2.txt','r') as json_file:\n",
    "    march_medadata = json.load(json_file)"
   ]
  },
  {
   "cell_type": "code",
   "execution_count": 12,
   "metadata": {},
   "outputs": [],
   "source": [
    "# filter metadata using filtered text's keys\n",
    "march_metadata_filtered = [march_medadata[i] for i in march_article_ids]"
   ]
  },
  {
   "cell_type": "code",
   "execution_count": 14,
   "metadata": {},
   "outputs": [],
   "source": [
    "# adding article_indexing to each metadata dict\n",
    "for article_meta in list(enumerate(march_metadata_filtered)): \n",
    "    removekey(article_meta[1])\n",
    "    pos = article_meta[0]\n",
    "    article_meta[1].update({\"article_index\": march_article_ids[pos]})"
   ]
  },
  {
   "cell_type": "code",
   "execution_count": 15,
   "metadata": {},
   "outputs": [],
   "source": [
    "# fixing article's text dict, which will have article_index and main_content as keys\n",
    "march_text_list = []\n",
    "for key, values in march_text_filtered.items():\n",
    "    raw_keys = ['article_index', 'main_content']\n",
    "    raw_vals = [key, values]\n",
    "    item_dict = {raw_keys[i]: raw_vals[i] for i in range(len(raw_keys))}\n",
    "    march_text_list.append(item_dict)"
   ]
  },
  {
   "cell_type": "code",
   "execution_count": 16,
   "metadata": {},
   "outputs": [],
   "source": [
    "# combine lists of metadata and raw text for articles\n",
    "metadata_all = feb_metadata_filtered+march_metadata_filtered\n",
    "text_all = feb_text_list+march_text_list"
   ]
  },
  {
   "cell_type": "code",
   "execution_count": 17,
   "metadata": {},
   "outputs": [
    {
     "data": {
      "text/plain": [
       "<pymongo.results.InsertManyResult at 0x7ffb78826dc0>"
      ]
     },
     "execution_count": 17,
     "metadata": {},
     "output_type": "execute_result"
    }
   ],
   "source": [
    "# Connect to the MongoDB and create database \"DDR-ML-Final\"\n",
    "# each article's main content goes to collection \"article_main_content\"\n",
    "client = MongoClient('localhost', 27017)\n",
    "db = client['DDR-ML-Final']\n",
    "col_main = db['article_main_content']\n",
    "col_main.insert_many(text_all)"
   ]
  },
  {
   "cell_type": "code",
   "execution_count": 18,
   "metadata": {},
   "outputs": [
    {
     "data": {
      "text/plain": [
       "<pymongo.results.InsertManyResult at 0x7ffb6a4886e0>"
      ]
     },
     "execution_count": 18,
     "metadata": {},
     "output_type": "execute_result"
    }
   ],
   "source": [
    "# each article's metadata goes to collection \"article_metadata\"\n",
    "col_meta = db['article_metadata']\n",
    "col_meta.insert_many(metadata_all)"
   ]
  },
  {
   "cell_type": "markdown",
   "metadata": {},
   "source": [
    "## WebScraping Delegates data and Dump into DB"
   ]
  },
  {
   "cell_type": "code",
   "execution_count": 20,
   "metadata": {},
   "outputs": [],
   "source": [
    "## Navigate to each url, & save article information\n",
    "headers = {'user-agent':'Mozilla/5.0'}\n",
    "url = 'https://www.nytimes.com/interactive/2020/us/elections/delegate-count-primary-results.html'\n",
    "response = requests.get(url, headers)\n",
    "\n",
    "# save the html file\n",
    "with open('delegate_counts.htm', 'w') as file:\n",
    "    file.write(response.text)\n",
    "    file.close"
   ]
  },
  {
   "cell_type": "code",
   "execution_count": 21,
   "metadata": {},
   "outputs": [],
   "source": [
    "#open the file and parse to soup object\n",
    "with open('delegate_counts.htm','r') as file:\n",
    "    soup = BeautifulSoup(file)"
   ]
  },
  {
   "cell_type": "code",
   "execution_count": 22,
   "metadata": {},
   "outputs": [],
   "source": [
    "#get only the rows of the table, so you can extract data\n",
    "table_rows = soup.find_all(\"tr\", class_ =\"g-event\")"
   ]
  },
  {
   "cell_type": "code",
   "execution_count": 23,
   "metadata": {},
   "outputs": [
    {
     "ename": "AttributeError",
     "evalue": "'NoneType' object has no attribute 'string'",
     "output_type": "error",
     "traceback": [
      "\u001b[0;31m---------------------------------------------------------------------------\u001b[0m",
      "\u001b[0;31mAttributeError\u001b[0m                            Traceback (most recent call last)",
      "\u001b[0;32m<ipython-input-23-e40a947dcb3a>\u001b[0m in \u001b[0;36m<module>\u001b[0;34m\u001b[0m\n\u001b[1;32m     10\u001b[0m \u001b[0;34m\u001b[0m\u001b[0m\n\u001b[1;32m     11\u001b[0m     \u001b[0;31m#get the state and add to list\u001b[0m\u001b[0;34m\u001b[0m\u001b[0;34m\u001b[0m\u001b[0;34m\u001b[0m\u001b[0m\n\u001b[0;32m---> 12\u001b[0;31m     \u001b[0mstate\u001b[0m \u001b[0;34m=\u001b[0m \u001b[0msoup\u001b[0m\u001b[0;34m.\u001b[0m\u001b[0mfind\u001b[0m\u001b[0;34m(\u001b[0m\u001b[0;34m\"span\"\u001b[0m\u001b[0;34m,\u001b[0m \u001b[0mclass_\u001b[0m\u001b[0;34m=\u001b[0m\u001b[0;34m\"g-full-name\"\u001b[0m\u001b[0;34m)\u001b[0m\u001b[0;34m.\u001b[0m\u001b[0mstring\u001b[0m\u001b[0;34m\u001b[0m\u001b[0;34m\u001b[0m\u001b[0m\n\u001b[0m\u001b[1;32m     13\u001b[0m     \u001b[0mstates_list\u001b[0m\u001b[0;34m.\u001b[0m\u001b[0mappend\u001b[0m\u001b[0;34m(\u001b[0m\u001b[0mstate\u001b[0m\u001b[0;34m)\u001b[0m\u001b[0;34m\u001b[0m\u001b[0;34m\u001b[0m\u001b[0m\n\u001b[1;32m     14\u001b[0m \u001b[0;34m\u001b[0m\u001b[0m\n",
      "\u001b[0;31mAttributeError\u001b[0m: 'NoneType' object has no attribute 'string'"
     ]
    }
   ],
   "source": [
    "### this code block will result in an error, but it captures all the data we need so that's fine\n",
    "states_list = []\n",
    "biden_delegates_list = []\n",
    "sanders_delegates_list = []\n",
    "biden_wins_list = []\n",
    "sanders_wins_list = []\n",
    "\n",
    "for row in table_rows:\n",
    "    soup = BeautifulSoup(str(row))\n",
    "    \n",
    "    #get the state and add to list\n",
    "    state = soup.find(\"span\", class_=\"g-full-name\").string\n",
    "    states_list.append(state)\n",
    "    \n",
    "    #set each value to null at the beginning of each run of the lopp\n",
    "    biden_delegates_nonwinner = np.nan\n",
    "    biden_delegates_winner = np.nan\n",
    "    sanders_delegates_nonwinner = np.nan\n",
    "    sanders_delegates_winner = np.nan\n",
    "    \n",
    "    #if Biden did not win, get delegate count from table row\n",
    "    try:\n",
    "        biden_delegates_nonwinner = int(soup.find(\"td\", class_=\"g-cand-wide g-cand g-biden in\").string)\n",
    "    #if that table row is not present, it means Biden won and need to get value as sibling of checkmark image\n",
    "    except AttributeError:\n",
    "        biden_delegates_winner = int(soup.find(\"img\", class_=\"g-checkmark\").next_sibling)\n",
    "    #if biden_delegates_winner is > 0 (aka not null), it means Biden won the state so use that delegate value\n",
    "    if biden_delegates_winner > 0:\n",
    "        biden_delegates = biden_delegates_winner\n",
    "        biden_winner = 1\n",
    "    #if Biden lost the state, use biden_delegates_nonwinner value\n",
    "    else:\n",
    "        biden_delegates = biden_delegates_nonwinner\n",
    "        biden_winner = 0\n",
    "    #add delegate count & whether Biden won to list\n",
    "    biden_delegates_list.append(biden_delegates)\n",
    "    biden_wins_list.append(biden_winner)\n",
    "    \n",
    "    #if Sanders did not win, get delegate count from table row\n",
    "    try:\n",
    "        sanders_delegates_nonwinner = int(soup.find(\"td\", class_=\"g-cand-wide g-cand g-sanders in\").string)\n",
    "    #if that table row is not present, it means Sanders won and need to get value as sibling of checkmark image\n",
    "    except AttributeError:\n",
    "        sanders_delegates_winner = int(soup.find(\"img\", class_=\"g-checkmark\").next_sibling)\n",
    "    #if sanders_delegates_winner is > 0 (aka not null), it means Sanders won the state so use that delegate value\n",
    "    if sanders_delegates_winner > 0:\n",
    "        sanders_delegates = sanders_delegates_winner\n",
    "        sanders_winner = 1\n",
    "    #if Sanders lost the state, use sanders_delegates_nonwinner value\n",
    "    else:\n",
    "        sanders_delegates = sanders_delegates_nonwinner\n",
    "        sanders_winner = 0\n",
    "    #add delegate count & whether Sanders won to list\n",
    "    sanders_delegates_list.append(sanders_delegates)\n",
    "    sanders_wins_list.append(sanders_winner)\n",
    "    \n",
    "    "
   ]
  },
  {
   "cell_type": "code",
   "execution_count": 24,
   "metadata": {},
   "outputs": [],
   "source": [
    "dictionary = {'state':states_list, \\\n",
    "              'biden_delegates':biden_delegates_list, \\\n",
    "              'sanders_delegates':sanders_delegates_list, \\\n",
    "              'biden_win':biden_wins_list, \\\n",
    "              'sanders_win':sanders_wins_list}"
   ]
  },
  {
   "cell_type": "code",
   "execution_count": 25,
   "metadata": {},
   "outputs": [],
   "source": [
    "df = pd.DataFrame(dictionary)"
   ]
  },
  {
   "cell_type": "code",
   "execution_count": 27,
   "metadata": {},
   "outputs": [],
   "source": [
    "delegates_records = df.to_dict('records')"
   ]
  },
  {
   "cell_type": "code",
   "execution_count": 29,
   "metadata": {},
   "outputs": [
    {
     "data": {
      "text/plain": [
       "<pymongo.results.InsertManyResult at 0x7ffb6b5e7eb0>"
      ]
     },
     "execution_count": 29,
     "metadata": {},
     "output_type": "execute_result"
    }
   ],
   "source": [
    "col_delegates = db['delegates']\n",
    "col_delegates.insert_many(delegates_records)"
   ]
  },
  {
   "cell_type": "markdown",
   "metadata": {},
   "source": [
    "## Funding info for Bernie and Joe"
   ]
  },
  {
   "cell_type": "code",
   "execution_count": 30,
   "metadata": {},
   "outputs": [],
   "source": [
    "# get funding info\n",
    "with open('finances.json','r') as json_funding:\n",
    "    funding = json.load(json_funding)"
   ]
  },
  {
   "cell_type": "code",
   "execution_count": 33,
   "metadata": {},
   "outputs": [
    {
     "data": {
      "text/plain": [
       "<pymongo.results.InsertManyResult at 0x7ffa0828bf00>"
      ]
     },
     "execution_count": 33,
     "metadata": {},
     "output_type": "execute_result"
    }
   ],
   "source": [
    "col_funding = db['fec Filings']\n",
    "col_funding.insert_many(funding)"
   ]
  },
  {
   "cell_type": "code",
   "execution_count": null,
   "metadata": {},
   "outputs": [],
   "source": []
  }
 ],
 "metadata": {
  "hide_input": false,
  "kernelspec": {
   "display_name": "Python 3",
   "language": "python",
   "name": "python3"
  },
  "language_info": {
   "codemirror_mode": {
    "name": "ipython",
    "version": 3
   },
   "file_extension": ".py",
   "mimetype": "text/x-python",
   "name": "python",
   "nbconvert_exporter": "python",
   "pygments_lexer": "ipython3",
   "version": "3.7.6"
  },
  "toc": {
   "base_numbering": 1,
   "nav_menu": {},
   "number_sections": true,
   "sideBar": true,
   "skip_h1_title": false,
   "title_cell": "Table of Contents",
   "title_sidebar": "Contents",
   "toc_cell": false,
   "toc_position": {},
   "toc_section_display": true,
   "toc_window_display": false
  }
 },
 "nbformat": 4,
 "nbformat_minor": 4
}
