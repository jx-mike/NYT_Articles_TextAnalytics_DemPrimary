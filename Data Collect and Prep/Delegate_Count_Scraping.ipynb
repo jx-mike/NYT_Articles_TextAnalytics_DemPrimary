{
 "cells": [
  {
   "cell_type": "markdown",
   "metadata": {},
   "source": [
    "# Get Delegate Counts from Super Tuesday States\n",
    "Will return & save delegate counts for Joe Biden and Bernie Sanders in all Super Tuesday states."
   ]
  },
  {
   "cell_type": "code",
   "execution_count": 2,
   "metadata": {},
   "outputs": [],
   "source": [
    "import numpy as np\n",
    "import pandas as pd\n",
    "import requests\n",
    "from bs4 import BeautifulSoup\n",
    "import time\n",
    "import re\n",
    "import json"
   ]
  },
  {
   "cell_type": "code",
   "execution_count": 4,
   "metadata": {},
   "outputs": [],
   "source": [
    "## Navigate to each url, & save article information\n",
    "headers = {'user-agent':'Mozilla/5.0'}\n",
    "url = 'https://www.nytimes.com/interactive/2020/us/elections/delegate-count-primary-results.html'\n",
    "response = requests.get(url, headers)\n",
    "\n",
    "# save the html file\n",
    "with open('delegate_counts.htm', 'w') as file:\n",
    "    file.write(response.text)\n",
    "    file.close"
   ]
  },
  {
   "cell_type": "code",
   "execution_count": 164,
   "metadata": {},
   "outputs": [],
   "source": [
    "#open the file and parse to soup object\n",
    "with open('delegate_counts.htm','r') as file:\n",
    "    soup = BeautifulSoup(file)"
   ]
  },
  {
   "cell_type": "code",
   "execution_count": 165,
   "metadata": {},
   "outputs": [],
   "source": [
    "#get only the rows of the table, so you can extract data\n",
    "table_rows = soup.find_all(\"tr\", class_ =\"g-event\")"
   ]
  },
  {
   "cell_type": "code",
   "execution_count": 166,
   "metadata": {
    "scrolled": true
   },
   "outputs": [
    {
     "ename": "AttributeError",
     "evalue": "'NoneType' object has no attribute 'string'",
     "output_type": "error",
     "traceback": [
      "\u001b[0;31m---------------------------------------------------------------------------\u001b[0m",
      "\u001b[0;31mAttributeError\u001b[0m                            Traceback (most recent call last)",
      "\u001b[0;32m<ipython-input-166-6cbe6d237e68>\u001b[0m in \u001b[0;36m<module>\u001b[0;34m\u001b[0m\n\u001b[1;32m      9\u001b[0m     \u001b[0msoup\u001b[0m \u001b[0;34m=\u001b[0m \u001b[0mBeautifulSoup\u001b[0m\u001b[0;34m(\u001b[0m\u001b[0mstr\u001b[0m\u001b[0;34m(\u001b[0m\u001b[0mrow\u001b[0m\u001b[0;34m)\u001b[0m\u001b[0;34m)\u001b[0m\u001b[0;34m\u001b[0m\u001b[0;34m\u001b[0m\u001b[0m\n\u001b[1;32m     10\u001b[0m \u001b[0;34m\u001b[0m\u001b[0m\n\u001b[0;32m---> 11\u001b[0;31m     \u001b[0mstate\u001b[0m \u001b[0;34m=\u001b[0m \u001b[0msoup\u001b[0m\u001b[0;34m.\u001b[0m\u001b[0mfind\u001b[0m\u001b[0;34m(\u001b[0m\u001b[0;34m\"span\"\u001b[0m\u001b[0;34m,\u001b[0m \u001b[0mclass_\u001b[0m\u001b[0;34m=\u001b[0m\u001b[0;34m\"g-full-name\"\u001b[0m\u001b[0;34m)\u001b[0m\u001b[0;34m.\u001b[0m\u001b[0mstring\u001b[0m\u001b[0;34m\u001b[0m\u001b[0;34m\u001b[0m\u001b[0m\n\u001b[0m\u001b[1;32m     12\u001b[0m     \u001b[0mstates_list\u001b[0m\u001b[0;34m.\u001b[0m\u001b[0mappend\u001b[0m\u001b[0;34m(\u001b[0m\u001b[0mstate\u001b[0m\u001b[0;34m)\u001b[0m\u001b[0;34m\u001b[0m\u001b[0;34m\u001b[0m\u001b[0m\n\u001b[1;32m     13\u001b[0m \u001b[0;34m\u001b[0m\u001b[0m\n",
      "\u001b[0;31mAttributeError\u001b[0m: 'NoneType' object has no attribute 'string'"
     ]
    }
   ],
   "source": [
    "### this code block will result in an error, but it captures all the data we need so that's fine\n",
    "states_list = []\n",
    "biden_delegates_list = []\n",
    "sanders_delegates_list = []\n",
    "biden_wins_list = []\n",
    "sanders_wins_list = []\n",
    "\n",
    "for row in table_rows:\n",
    "    soup = BeautifulSoup(str(row))\n",
    "    \n",
    "    #get the state and add to list\n",
    "    state = soup.find(\"span\", class_=\"g-full-name\").string\n",
    "    states_list.append(state)\n",
    "    \n",
    "    #set each value to null at the beginning of each run of the lopp\n",
    "    biden_delegates_nonwinner = np.nan\n",
    "    biden_delegates_winner = np.nan\n",
    "    sanders_delegates_nonwinner = np.nan\n",
    "    sanders_delegates_winner = np.nan\n",
    "    \n",
    "    #if Biden did not win, get delegate count from table row\n",
    "    try:\n",
    "        biden_delegates_nonwinner = int(soup.find(\"td\", class_=\"g-cand-wide g-cand g-biden in\").string)\n",
    "    #if that table row is not present, it means Biden won and need to get value as sibling of checkmark image\n",
    "    except AttributeError:\n",
    "        biden_delegates_winner = int(soup.find(\"img\", class_=\"g-checkmark\").next_sibling)\n",
    "    #if biden_delegates_winner is > 0 (aka not null), it means Biden won the state so use that delegate value\n",
    "    if biden_delegates_winner > 0:\n",
    "        biden_delegates = biden_delegates_winner\n",
    "        biden_winner = 1\n",
    "    #if Biden lost the state, use biden_delegates_nonwinner value\n",
    "    else:\n",
    "        biden_delegates = biden_delegates_nonwinner\n",
    "        biden_winner = 0\n",
    "    #add delegate count & whether Biden won to list\n",
    "    biden_delegates_list.append(biden_delegates)\n",
    "    biden_wins_list.append(biden_winner)\n",
    "    \n",
    "    #if Sanders did not win, get delegate count from table row\n",
    "    try:\n",
    "        sanders_delegates_nonwinner = int(soup.find(\"td\", class_=\"g-cand-wide g-cand g-sanders in\").string)\n",
    "    #if that table row is not present, it means Sanders won and need to get value as sibling of checkmark image\n",
    "    except AttributeError:\n",
    "        sanders_delegates_winner = int(soup.find(\"img\", class_=\"g-checkmark\").next_sibling)\n",
    "    #if sanders_delegates_winner is > 0 (aka not null), it means Sanders won the state so use that delegate value\n",
    "    if sanders_delegates_winner > 0:\n",
    "        sanders_delegates = sanders_delegates_winner\n",
    "        sanders_winner = 1\n",
    "    #if Sanders lost the state, use sanders_delegates_nonwinner value\n",
    "    else:\n",
    "        sanders_delegates = sanders_delegates_nonwinner\n",
    "        sanders_winner = 0\n",
    "    #add delegate count & whether Sanders won to list\n",
    "    sanders_delegates_list.append(sanders_delegates)\n",
    "    sanders_wins_list.append(sanders_winner)\n",
    "    \n",
    "    "
   ]
  },
  {
   "cell_type": "code",
   "execution_count": 167,
   "metadata": {},
   "outputs": [
    {
     "data": {
      "text/plain": [
       "['Iowa',\n",
       " 'New Hampshire',\n",
       " 'Nevada',\n",
       " 'South Carolina',\n",
       " 'Alabama',\n",
       " 'American Samoa',\n",
       " 'Arkansas',\n",
       " 'California',\n",
       " 'Colorado',\n",
       " 'Maine',\n",
       " 'Massachussetts',\n",
       " 'Minnesota',\n",
       " 'North Carolina',\n",
       " 'Oklahoma',\n",
       " 'Tennessee',\n",
       " 'Texas',\n",
       " 'Utah',\n",
       " 'Vermont',\n",
       " 'Virginia',\n",
       " 'Idaho',\n",
       " 'Michigan',\n",
       " 'Mississippi',\n",
       " 'Missouri',\n",
       " 'North Dakota',\n",
       " 'Washington',\n",
       " 'Northern Marianas']"
      ]
     },
     "execution_count": 167,
     "metadata": {},
     "output_type": "execute_result"
    }
   ],
   "source": [
    "states_list"
   ]
  },
  {
   "cell_type": "code",
   "execution_count": 168,
   "metadata": {},
   "outputs": [
    {
     "data": {
      "text/plain": [
       "[6,\n",
       " 0,\n",
       " 9,\n",
       " 39,\n",
       " 44,\n",
       " 0,\n",
       " 17,\n",
       " 163,\n",
       " 12,\n",
       " 11,\n",
       " 37,\n",
       " 38,\n",
       " 67,\n",
       " 21,\n",
       " 33,\n",
       " 111,\n",
       " 5,\n",
       " 5,\n",
       " 66,\n",
       " 11,\n",
       " 72,\n",
       " 34,\n",
       " 44,\n",
       " 6,\n",
       " 37,\n",
       " 2]"
      ]
     },
     "execution_count": 168,
     "metadata": {},
     "output_type": "execute_result"
    }
   ],
   "source": [
    "biden_delegates_list"
   ]
  },
  {
   "cell_type": "code",
   "execution_count": 169,
   "metadata": {},
   "outputs": [
    {
     "data": {
      "text/plain": [
       "[0, 0, 0, 1, 1, 0, 1, 0, 0, 1, 1, 1, 1, 1, 1, 1, 0, 0, 1, 1, 1, 1, 1, 0, 0, 0]"
      ]
     },
     "execution_count": 169,
     "metadata": {},
     "output_type": "execute_result"
    }
   ],
   "source": [
    "biden_wins_list"
   ]
  },
  {
   "cell_type": "code",
   "execution_count": 170,
   "metadata": {},
   "outputs": [
    {
     "data": {
      "text/plain": [
       "[12,\n",
       " 9,\n",
       " 24,\n",
       " 15,\n",
       " 8,\n",
       " 0,\n",
       " 9,\n",
       " 211,\n",
       " 21,\n",
       " 9,\n",
       " 29,\n",
       " 27,\n",
       " 37,\n",
       " 13,\n",
       " 19,\n",
       " 102,\n",
       " 13,\n",
       " 11,\n",
       " 31,\n",
       " 9,\n",
       " 52,\n",
       " 2,\n",
       " 24,\n",
       " 8,\n",
       " 37,\n",
       " 4]"
      ]
     },
     "execution_count": 170,
     "metadata": {},
     "output_type": "execute_result"
    }
   ],
   "source": [
    "sanders_delegates_list"
   ]
  },
  {
   "cell_type": "code",
   "execution_count": 171,
   "metadata": {},
   "outputs": [
    {
     "data": {
      "text/plain": [
       "[0, 1, 1, 0, 0, 0, 0, 0, 1, 0, 0, 0, 0, 0, 0, 0, 1, 1, 0, 0, 0, 0, 0, 1, 0, 1]"
      ]
     },
     "execution_count": 171,
     "metadata": {},
     "output_type": "execute_result"
    }
   ],
   "source": [
    "sanders_wins_list"
   ]
  },
  {
   "cell_type": "code",
   "execution_count": 173,
   "metadata": {},
   "outputs": [],
   "source": [
    "dictionary = {'state':states_list, \\\n",
    "              'biden_delegates':biden_delegates_list, \\\n",
    "              'sanders_delegates':sanders_delegates_list, \\\n",
    "              'biden_win':biden_wins_list, \\\n",
    "              'sanders_win':sanders_wins_list}"
   ]
  },
  {
   "cell_type": "code",
   "execution_count": 177,
   "metadata": {},
   "outputs": [],
   "source": [
    "df = pd.DataFrame(dictionary)"
   ]
  },
  {
   "cell_type": "code",
   "execution_count": 178,
   "metadata": {},
   "outputs": [
    {
     "data": {
      "text/plain": [
       "[{'state': 'Iowa',\n",
       "  'biden_delegates': 6,\n",
       "  'sanders_delegates': 12,\n",
       "  'biden_win': 0,\n",
       "  'sanders_win': 0},\n",
       " {'state': 'New Hampshire',\n",
       "  'biden_delegates': 0,\n",
       "  'sanders_delegates': 9,\n",
       "  'biden_win': 0,\n",
       "  'sanders_win': 1},\n",
       " {'state': 'Nevada',\n",
       "  'biden_delegates': 9,\n",
       "  'sanders_delegates': 24,\n",
       "  'biden_win': 0,\n",
       "  'sanders_win': 1},\n",
       " {'state': 'South Carolina',\n",
       "  'biden_delegates': 39,\n",
       "  'sanders_delegates': 15,\n",
       "  'biden_win': 1,\n",
       "  'sanders_win': 0},\n",
       " {'state': 'Alabama',\n",
       "  'biden_delegates': 44,\n",
       "  'sanders_delegates': 8,\n",
       "  'biden_win': 1,\n",
       "  'sanders_win': 0},\n",
       " {'state': 'American Samoa',\n",
       "  'biden_delegates': 0,\n",
       "  'sanders_delegates': 0,\n",
       "  'biden_win': 0,\n",
       "  'sanders_win': 0},\n",
       " {'state': 'Arkansas',\n",
       "  'biden_delegates': 17,\n",
       "  'sanders_delegates': 9,\n",
       "  'biden_win': 1,\n",
       "  'sanders_win': 0},\n",
       " {'state': 'California',\n",
       "  'biden_delegates': 163,\n",
       "  'sanders_delegates': 211,\n",
       "  'biden_win': 0,\n",
       "  'sanders_win': 0},\n",
       " {'state': 'Colorado',\n",
       "  'biden_delegates': 12,\n",
       "  'sanders_delegates': 21,\n",
       "  'biden_win': 0,\n",
       "  'sanders_win': 1},\n",
       " {'state': 'Maine',\n",
       "  'biden_delegates': 11,\n",
       "  'sanders_delegates': 9,\n",
       "  'biden_win': 1,\n",
       "  'sanders_win': 0},\n",
       " {'state': 'Massachussetts',\n",
       "  'biden_delegates': 37,\n",
       "  'sanders_delegates': 29,\n",
       "  'biden_win': 1,\n",
       "  'sanders_win': 0},\n",
       " {'state': 'Minnesota',\n",
       "  'biden_delegates': 38,\n",
       "  'sanders_delegates': 27,\n",
       "  'biden_win': 1,\n",
       "  'sanders_win': 0},\n",
       " {'state': 'North Carolina',\n",
       "  'biden_delegates': 67,\n",
       "  'sanders_delegates': 37,\n",
       "  'biden_win': 1,\n",
       "  'sanders_win': 0},\n",
       " {'state': 'Oklahoma',\n",
       "  'biden_delegates': 21,\n",
       "  'sanders_delegates': 13,\n",
       "  'biden_win': 1,\n",
       "  'sanders_win': 0},\n",
       " {'state': 'Tennessee',\n",
       "  'biden_delegates': 33,\n",
       "  'sanders_delegates': 19,\n",
       "  'biden_win': 1,\n",
       "  'sanders_win': 0},\n",
       " {'state': 'Texas',\n",
       "  'biden_delegates': 111,\n",
       "  'sanders_delegates': 102,\n",
       "  'biden_win': 1,\n",
       "  'sanders_win': 0},\n",
       " {'state': 'Utah',\n",
       "  'biden_delegates': 5,\n",
       "  'sanders_delegates': 13,\n",
       "  'biden_win': 0,\n",
       "  'sanders_win': 1},\n",
       " {'state': 'Vermont',\n",
       "  'biden_delegates': 5,\n",
       "  'sanders_delegates': 11,\n",
       "  'biden_win': 0,\n",
       "  'sanders_win': 1},\n",
       " {'state': 'Virginia',\n",
       "  'biden_delegates': 66,\n",
       "  'sanders_delegates': 31,\n",
       "  'biden_win': 1,\n",
       "  'sanders_win': 0},\n",
       " {'state': 'Idaho',\n",
       "  'biden_delegates': 11,\n",
       "  'sanders_delegates': 9,\n",
       "  'biden_win': 1,\n",
       "  'sanders_win': 0},\n",
       " {'state': 'Michigan',\n",
       "  'biden_delegates': 72,\n",
       "  'sanders_delegates': 52,\n",
       "  'biden_win': 1,\n",
       "  'sanders_win': 0},\n",
       " {'state': 'Mississippi',\n",
       "  'biden_delegates': 34,\n",
       "  'sanders_delegates': 2,\n",
       "  'biden_win': 1,\n",
       "  'sanders_win': 0},\n",
       " {'state': 'Missouri',\n",
       "  'biden_delegates': 44,\n",
       "  'sanders_delegates': 24,\n",
       "  'biden_win': 1,\n",
       "  'sanders_win': 0},\n",
       " {'state': 'North Dakota',\n",
       "  'biden_delegates': 6,\n",
       "  'sanders_delegates': 8,\n",
       "  'biden_win': 0,\n",
       "  'sanders_win': 1},\n",
       " {'state': 'Washington',\n",
       "  'biden_delegates': 37,\n",
       "  'sanders_delegates': 37,\n",
       "  'biden_win': 0,\n",
       "  'sanders_win': 0},\n",
       " {'state': 'Northern Marianas',\n",
       "  'biden_delegates': 2,\n",
       "  'sanders_delegates': 4,\n",
       "  'biden_win': 0,\n",
       "  'sanders_win': 1}]"
      ]
     },
     "execution_count": 178,
     "metadata": {},
     "output_type": "execute_result"
    }
   ],
   "source": [
    "df.to_dict('records')"
   ]
  }
 ],
 "metadata": {
  "kernelspec": {
   "display_name": "Python 3",
   "language": "python",
   "name": "python3"
  },
  "language_info": {
   "codemirror_mode": {
    "name": "ipython",
    "version": 3
   },
   "file_extension": ".py",
   "mimetype": "text/x-python",
   "name": "python",
   "nbconvert_exporter": "python",
   "pygments_lexer": "ipython3",
   "version": "3.7.3"
  }
 },
 "nbformat": 4,
 "nbformat_minor": 2
}
